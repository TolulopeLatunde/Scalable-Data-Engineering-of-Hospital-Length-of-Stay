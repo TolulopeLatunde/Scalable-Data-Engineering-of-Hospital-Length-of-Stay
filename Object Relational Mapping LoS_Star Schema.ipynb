{
 "cells": [
  {
   "cell_type": "code",
   "execution_count": 1,
   "id": "8b3a33c8-d9a9-45f7-9605-8ba8f63f7ae7",
   "metadata": {},
   "outputs": [],
   "source": [
    "import pandas as pd\n",
    "import mysql.connector\n",
    "from datetime import datetime\n",
    "import time"
   ]
  },
  {
   "cell_type": "code",
   "execution_count": 5,
   "id": "a169540f-0e5d-4248-b4c6-bce33ae563b9",
   "metadata": {},
   "outputs": [],
   "source": [
    "# Read the cleaned CSV data\n",
    "data = pd.read_csv(r\"C:\\Users\\Admin\\OneDrive\\Desktop\\drmaths\\Hospital Length of Stay Project\\LengthOfStay.csv\")"
   ]
  },
  {
   "cell_type": "code",
   "execution_count": 7,
   "id": "c79494a4-afa9-4456-ac23-878cad8dedd3",
   "metadata": {},
   "outputs": [],
   "source": [
    "# Convert date columns to datetime and ensure they are in 'YYYY-MM-DD' format\n",
    "\n",
    "data['vdate'] = pd.to_datetime(data['vdate'], errors='coerce').dt.strftime('%Y-%m-%d')\n",
    "data['discharged'] = pd.to_datetime(data['discharged'], errors='coerce').dt.strftime('%Y-%m-%d')"
   ]
  },
  {
   "cell_type": "code",
   "execution_count": 11,
   "id": "c5eeb8be-3846-497d-acea-dab796eee8de",
   "metadata": {},
   "outputs": [],
   "source": [
    "# Replace missing values with a default or None for null insertions in MySQL\n",
    "data.fillna({'secondarydiagnosisnonicd9': 'Unknown'}, inplace=True)"
   ]
  },
  {
   "cell_type": "code",
   "execution_count": 13,
   "id": "cf956528-553f-4971-8d8f-75204bb499ec",
   "metadata": {},
   "outputs": [
    {
     "name": "stdout",
     "output_type": "stream",
     "text": [
      "Data has been read and processed successfully.\n"
     ]
    }
   ],
   "source": [
    "print(\"Data has been read and processed successfully.\")"
   ]
  },
  {
   "cell_type": "code",
   "execution_count": 21,
   "id": "02879bbd-3e5c-47b2-b4bc-cf8698f08659",
   "metadata": {},
   "outputs": [
    {
     "name": "stdout",
     "output_type": "stream",
     "text": [
      "Successfully connected to MySQL (without specifying a database)\n",
      "Database 'HospitalLengthOfStayDW' is ready and in use.\n",
      "Successfully connected to MySQL with 'HospitalLengthOfStayDW'\n"
     ]
    }
   ],
   "source": [
    "# Function to establish a connection without specifying a database\n",
    "\n",
    "def get_connection_without_db():\n",
    "    attempts = 3  # Number of reconnection attempts\n",
    "    while attempts > 0:\n",
    "        try:\n",
    "            conn = mysql.connector.connect(\n",
    "                host='localhost',\n",
    "                user='root',  # Replace with your MySQL username\n",
    "                password='********'  # Replace with your MySQL password\n",
    "            )\n",
    "            print(\"Successfully connected to MySQL (without specifying a database)\")\n",
    "            return conn\n",
    "        except mysql.connector.Error as err:\n",
    "            print(f\"Error: {err}. Retrying in 5 seconds...\")\n",
    "            time.sleep(5)\n",
    "            attempts -= 1\n",
    "    raise Exception(\"Could not connect to the MySQL server after several attempts.\")\n",
    "\n",
    "# Establish the connection without specifying a database\n",
    "conn = get_connection_without_db()\n",
    "cursor = conn.cursor()\n",
    "\n",
    "# Create the database if it doesn't exist and then switch to it\n",
    "cursor.execute(\"CREATE DATABASE IF NOT EXISTS HospitalLengthOfStayDW\")\n",
    "cursor.execute(\"USE HospitalLengthOfStayDW\")\n",
    "print(\"Database 'HospitalLengthOfStayDW' is ready and in use.\")\n",
    "\n",
    "# Close the initial connection\n",
    "cursor.close()\n",
    "conn.close()\n",
    "\n",
    "# Now reconnect with the database specified\n",
    "def get_connection():\n",
    "    attempts = 3  # Number of reconnection attempts\n",
    "    while attempts > 0:\n",
    "        try:\n",
    "            conn = mysql.connector.connect(\n",
    "                host='localhost',\n",
    "                user='root',  # Replace with your MySQL username\n",
    "                password='TOLATs17$',  # Replace with your MySQL password\n",
    "                database='HospitalLengthOfStayDW'\n",
    "            )\n",
    "            print(\"Successfully connected to MySQL with 'HospitalLengthOfStayDW'\")\n",
    "            return conn\n",
    "        except mysql.connector.Error as err:\n",
    "            print(f\"Error: {err}. Retrying in 5 seconds...\")\n",
    "            time.sleep(5)\n",
    "            attempts -= 1\n",
    "    raise Exception(\"Could not connect to the MySQL server after several attempts.\")\n",
    "\n",
    "# Establish the connection to the specified database\n",
    "conn = get_connection()\n",
    "cursor = conn.cursor(buffered=True)"
   ]
  },
  {
   "cell_type": "code",
   "execution_count": 23,
   "id": "bd5de38e-bc83-46d2-9c06-b0260d6704e1",
   "metadata": {},
   "outputs": [
    {
     "name": "stdout",
     "output_type": "stream",
     "text": [
      "Tables created successfully.\n"
     ]
    }
   ],
   "source": [
    "# Drop existing database and create a fresh one\n",
    "\n",
    "cursor.execute(\"DROP DATABASE IF EXISTS HospitalLengthOfStayDW\")\n",
    "cursor.execute(\"CREATE DATABASE HospitalLengthOfStayDW\")\n",
    "cursor.execute(\"USE HospitalLengthOfStayDW\")\n",
    "\n",
    "# Create the dimension and fact tables\n",
    "cursor.execute('''\n",
    "    CREATE TABLE IF NOT EXISTS Dim_Date (\n",
    "        Date_ID INT PRIMARY KEY AUTO_INCREMENT,\n",
    "        Date DATE UNIQUE,\n",
    "        Year INT,\n",
    "        Month INT,\n",
    "        Day INT,\n",
    "        Week INT\n",
    "    )\n",
    "''')\n",
    "\n",
    "cursor.execute('''\n",
    "    CREATE TABLE IF NOT EXISTS Dim_Patient (\n",
    "        Patient_ID INT PRIMARY KEY AUTO_INCREMENT,\n",
    "        Gender VARCHAR(10),\n",
    "        Dialysis_Renal_Endstage BOOLEAN,\n",
    "        Asthma BOOLEAN,\n",
    "        Iron_Deficiency BOOLEAN,\n",
    "        Pneumonia BOOLEAN,\n",
    "        Substance_Dependence BOOLEAN,\n",
    "        Psychological_Disorder BOOLEAN,\n",
    "        Depression BOOLEAN,\n",
    "        Psychotherapy BOOLEAN,\n",
    "        Fibrosis BOOLEAN,\n",
    "        Malnutrition BOOLEAN\n",
    "    )\n",
    "''')\n",
    "\n",
    "cursor.execute('''\n",
    "    CREATE TABLE IF NOT EXISTS Dim_Diagnosis (\n",
    "        Diagnosis_ID INT PRIMARY KEY AUTO_INCREMENT,\n",
    "        Secondary_Diagnosis VARCHAR(255) UNIQUE\n",
    "    )\n",
    "''')\n",
    "\n",
    "cursor.execute('''\n",
    "    CREATE TABLE IF NOT EXISTS Dim_Facility (\n",
    "        Facility_ID INT PRIMARY KEY AUTO_INCREMENT,\n",
    "        Facility_Code VARCHAR(5) UNIQUE\n",
    "    )\n",
    "''')\n",
    "\n",
    "cursor.execute('''\n",
    "    CREATE TABLE IF NOT EXISTS Fact_Stay (\n",
    "        Stay_ID INT PRIMARY KEY AUTO_INCREMENT,\n",
    "        Patient_ID INT,\n",
    "        Date_ID INT,\n",
    "        Diagnosis_ID INT,\n",
    "        Facility_ID INT,\n",
    "        Hematocrit DECIMAL(5, 2),\n",
    "        Neutrophils DECIMAL(5, 2),\n",
    "        Sodium DECIMAL(6, 2),\n",
    "        Glucose DECIMAL(6, 2),\n",
    "        Blood_Urea_Nitrogen DECIMAL(5, 2),\n",
    "        Creatinine DECIMAL(5, 2),\n",
    "        BMI DECIMAL(5, 2),\n",
    "        Pulse INT,\n",
    "        Respiration DECIMAL(3, 1),\n",
    "        Length_Of_Stay INT,\n",
    "        FOREIGN KEY (Patient_ID) REFERENCES Dim_Patient(Patient_ID),\n",
    "        FOREIGN KEY (Date_ID) REFERENCES Dim_Date(Date_ID),\n",
    "        FOREIGN KEY (Diagnosis_ID) REFERENCES Dim_Diagnosis(Diagnosis_ID),\n",
    "        FOREIGN KEY (Facility_ID) REFERENCES Dim_Facility(Facility_ID)\n",
    "    )\n",
    "''')\n",
    "\n",
    "# Commit the table creation\n",
    "conn.commit()\n",
    "print(\"Tables created successfully.\")"
   ]
  },
  {
   "cell_type": "code",
   "execution_count": 25,
   "id": "fc7ea491-2285-4179-b01c-f492d9a5ed6d",
   "metadata": {},
   "outputs": [],
   "source": [
    "def get_or_create_date_id(date):\n",
    "    if not pd.isna(date):\n",
    "        cursor.execute('SELECT Date_ID FROM Dim_Date WHERE Date = %s', (date,))\n",
    "        result = cursor.fetchone()\n",
    "        if result:\n",
    "            return result[0]\n",
    "        else:\n",
    "            date_obj = datetime.strptime(date, '%Y-%m-%d')\n",
    "            cursor.execute('''\n",
    "                INSERT INTO Dim_Date (Date, Year, Month, Day, Week)\n",
    "                VALUES (%s, %s, %s, %s, %s)\n",
    "            ''', (date, date_obj.year, date_obj.month, date_obj.day, date_obj.isocalendar()[1]))\n",
    "            conn.commit()\n",
    "            return cursor.lastrowid\n",
    "    return None\n",
    "\n",
    "def get_or_create_patient_id(row):\n",
    "    cursor.execute('''\n",
    "        SELECT Patient_ID FROM Dim_Patient WHERE \n",
    "        Gender = %s AND Dialysis_Renal_Endstage = %s AND Asthma = %s AND Iron_Deficiency = %s AND\n",
    "        Pneumonia = %s AND Substance_Dependence = %s AND Psychological_Disorder = %s AND\n",
    "        Depression = %s AND Psychotherapy = %s AND Fibrosis = %s AND Malnutrition = %s\n",
    "    ''', (\n",
    "        row['gender'], row['dialysisrenalendstage'], row['asthma'], row['irondef'],\n",
    "        row['pneum'], row['substancedependence'], row['psychologicaldisordermajor'],\n",
    "        row['depress'], row['psychother'], row['fibrosisandother'], row['malnutrition']\n",
    "    ))\n",
    "    result = cursor.fetchone()\n",
    "    if result:\n",
    "        return result[0]\n",
    "    else:\n",
    "        cursor.execute('''\n",
    "            INSERT INTO Dim_Patient (\n",
    "                Gender, Dialysis_Renal_Endstage, Asthma, Iron_Deficiency, Pneumonia, \n",
    "                Substance_Dependence, Psychological_Disorder, Depression, Psychotherapy, \n",
    "                Fibrosis, Malnutrition\n",
    "            ) VALUES (%s, %s, %s, %s, %s, %s, %s, %s, %s, %s, %s)\n",
    "        ''', (\n",
    "            row['gender'], row['dialysisrenalendstage'], row['asthma'], row['irondef'],\n",
    "            row['pneum'], row['substancedependence'], row['psychologicaldisordermajor'],\n",
    "            row['depress'], row['psychother'], row['fibrosisandother'], row['malnutrition']\n",
    "        ))\n",
    "        conn.commit()\n",
    "        return cursor.lastrowid\n",
    "\n",
    "def get_or_create_diagnosis_id(diagnosis):\n",
    "    cursor.execute('SELECT Diagnosis_ID FROM Dim_Diagnosis WHERE Secondary_Diagnosis = %s', (diagnosis,))\n",
    "    result = cursor.fetchone()\n",
    "    if result:\n",
    "        return result[0]\n",
    "    else:\n",
    "        cursor.execute('INSERT INTO Dim_Diagnosis (Secondary_Diagnosis) VALUES (%s)', (diagnosis,))\n",
    "        conn.commit()\n",
    "        return cursor.lastrowid\n",
    "\n",
    "def get_or_create_facility_id(facility_code):\n",
    "    cursor.execute('SELECT Facility_ID FROM Dim_Facility WHERE Facility_Code = %s', (facility_code,))\n",
    "    result = cursor.fetchone()\n",
    "    if result:\n",
    "        return result[0]\n",
    "    else:\n",
    "        cursor.execute('INSERT INTO Dim_Facility (Facility_Code) VALUES (%s)', (facility_code,))\n",
    "        conn.commit()\n",
    "        return cursor.lastrowid"
   ]
  },
  {
   "cell_type": "code",
   "execution_count": 27,
   "id": "5b2cf340-b825-4499-b993-73ad4b1dc5f9",
   "metadata": {},
   "outputs": [
    {
     "name": "stdout",
     "output_type": "stream",
     "text": [
      "Data loaded into Fact_Stay table successfully.\n"
     ]
    }
   ],
   "source": [
    "# Prepare and load data into Fact_Stay\n",
    "for _, row in data.iterrows():\n",
    "    patient_id = get_or_create_patient_id(row)\n",
    "    vdate_id = get_or_create_date_id(row['vdate'])\n",
    "    diagnosis_id = get_or_create_diagnosis_id(row['secondarydiagnosisnonicd9'])\n",
    "    facility_id = get_or_create_facility_id(row['facid'])\n",
    "\n",
    "    if patient_id and vdate_id and diagnosis_id and facility_id:\n",
    "        cursor.execute('''\n",
    "            INSERT INTO Fact_Stay (\n",
    "                Patient_ID, Date_ID, Diagnosis_ID, Facility_ID, Hematocrit, Neutrophils, Sodium, Glucose, \n",
    "                Blood_Urea_Nitrogen, Creatinine, BMI, Pulse, Respiration, Length_Of_Stay\n",
    "            ) VALUES (%s, %s, %s, %s, %s, %s, %s, %s, %s, %s, %s, %s, %s, %s)\n",
    "        ''', (\n",
    "            patient_id, vdate_id, diagnosis_id, facility_id,\n",
    "            row['hematocrit'], row['neutrophils'], row['sodium'], row['glucose'],\n",
    "            row['bloodureanitro'], row['creatinine'], row['bmi'], row['pulse'],\n",
    "            row['respiration'], row['lengthofstay']\n",
    "        ))\n",
    "\n",
    "# Commit the final data load to ensure all changes are saved\n",
    "conn.commit()\n",
    "print(\"Data loaded into Fact_Stay table successfully.\")"
   ]
  },
  {
   "cell_type": "code",
   "execution_count": 29,
   "id": "26cc79b7-0d0f-4d7d-bc21-344231cb8d05",
   "metadata": {},
   "outputs": [
    {
     "name": "stdout",
     "output_type": "stream",
     "text": [
      "MySQL connection closed.\n"
     ]
    }
   ],
   "source": [
    "# Close the connection to the database\n",
    "\n",
    "cursor.close()\n",
    "conn.close()\n",
    "print(\"MySQL connection closed.\")"
   ]
  },
  {
   "cell_type": "code",
   "execution_count": null,
   "id": "8ba0f3cc-71ad-4722-bc20-e8cef9a3cb7b",
   "metadata": {},
   "outputs": [],
   "source": []
  }
 ],
 "metadata": {
  "kernelspec": {
   "display_name": "Python 3 (ipykernel)",
   "language": "python",
   "name": "python3"
  },
  "language_info": {
   "codemirror_mode": {
    "name": "ipython",
    "version": 3
   },
   "file_extension": ".py",
   "mimetype": "text/x-python",
   "name": "python",
   "nbconvert_exporter": "python",
   "pygments_lexer": "ipython3",
   "version": "3.12.4"
  }
 },
 "nbformat": 4,
 "nbformat_minor": 5
}
